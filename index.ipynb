{
 "cells": [
  {
   "cell_type": "markdown",
   "metadata": {},
   "source": [
    "# Project 2: More Data, More Visualizations"
   ]
  },
  {
   "cell_type": "markdown",
   "metadata": {},
   "source": [
    "# Data Analysis of Crop Productivity in Karamoja, Uganda."
   ]
  },
  {
   "cell_type": "code",
   "execution_count": 1,
   "metadata": {},
   "outputs": [
    {
     "data": {
      "text/html": [
       "<img src=\"https://www.bing.com/images/search?view=detailV2&ccid=gu%2f663HE&id=F8975444BFB8B4BDC41E06E9D06B44BFBEB0F35C&thid=OIP.gu_663HEehhZXstxVTpacgHaDW&mediaurl=https%3a%2f%2fwww.researchgate.net%2fpublication%2f350565175%2ffigure%2ffig2%2fAS%3a1007839912947712%401617299168252%2fPlants-of-maize-and-sorghum.jpg&cdnurl=https%3a%2f%2fth.bing.com%2fth%2fid%2fR.82effaeb71c47a18595ecb71553a5a72%3frik%3dXPOwvr9Ea9DpBg%26pid%3dImgRaw%26r%3d0&exph=277&expw=612&q=maize+and+sorghum+together+plantation&simid=608047501853459356&FORM=IRPRST&ck=B37F9FA2C506A7706CE1A5F7A1B3F7CA&selectedIndex=0&itb=0\"/>"
      ],
      "text/plain": [
       "<IPython.core.display.Image object>"
      ]
     },
     "metadata": {},
     "output_type": "display_data"
    }
   ],
   "source": [
    "from IPython.display import display, Image\n",
    "\n",
    "# URL of the Sorghum and Maize image\n",
    "image_url = 'https://www.bing.com/images/search?view=detailV2&ccid=gu%2f663HE&id=F8975444BFB8B4BDC41E06E9D06B44BFBEB0F35C&thid=OIP.gu_663HEehhZXstxVTpacgHaDW&mediaurl=https%3a%2f%2fwww.researchgate.net%2fpublication%2f350565175%2ffigure%2ffig2%2fAS%3a1007839912947712%401617299168252%2fPlants-of-maize-and-sorghum.jpg&cdnurl=https%3a%2f%2fth.bing.com%2fth%2fid%2fR.82effaeb71c47a18595ecb71553a5a72%3frik%3dXPOwvr9Ea9DpBg%26pid%3dImgRaw%26r%3d0&exph=277&expw=612&q=maize+and+sorghum+together+plantation&simid=608047501853459356&FORM=IRPRST&ck=B37F9FA2C506A7706CE1A5F7A1B3F7CA&selectedIndex=0&itb=0'\n",
    "\n",
    "# Display the image\n",
    "display(Image(url=image_url))"
   ]
  },
  {
   "cell_type": "markdown",
   "metadata": {},
   "source": [
    "### Student Name: Lemayian Resiato\n",
    "\n",
    "### Karamoja District Tableau Dahboard link:(https://public.tableau.com/app/profile/lemayian.resiato/viz/KaramojaUgandaDistrictDashboard/KaramojaUgandaDistrictDashboard?publish=yes)\n",
    "\n",
    "### Karamoja Subcounty Tableau Dashboard link: (https://public.tableau.com/app/profile/lemayian.resiato/viz/KaramojaUgandaSubcountyDashboard/KaramojaSubcountyDashboard?publish=yes)"
   ]
  },
  {
   "cell_type": "markdown",
   "metadata": {},
   "source": [
    "## Presentation :(https://docs.google.com/presentation/d/1YEorv0yz92rmxwuTvbvoziV9QeWmQsNSXhJgvvFLrUY/edit?usp=sharing)"
   ]
  },
  {
   "cell_type": "markdown",
   "metadata": {},
   "source": [
    "## Business Understanding"
   ]
  },
  {
   "cell_type": "markdown",
   "metadata": {},
   "source": [
    "## Intoduction\n",
    "The Karamoja sub-region, commonly known as Karamoja, is a region in Uganda. It covers an area of 27,528km and comprises the Kotido District, Kaabong District, Karenga District, Nabilatuk District, Abim District, Moroto District, Napak District, Amudat District and Nakapiripirit District."
   ]
  },
  {
   "cell_type": "markdown",
   "metadata": {},
   "source": [
    "## Problem Statement\n",
    "Karamoja faces challenges in agricultural productivity, which is critical to its economy and food security. The area is highly affected by recurrent droughts, limiting water resources essential for crop growth. Additionally, Karamoja's large rural population, coupled with widespread poverty, worsens the vulnerability of farmers who struggle to access modern farming techniques and resources. The combination of these factors, along with limited infrastructure and support systems, results in low productivity levels of crops, contributing to food insecurity and hindering the region's overall development.\n",
    "\n",
    "Human welfare, living conditions and quality of life of the people in Karamoja have declined considerably due to various factors such as environmental issues, insecurity, marginalization, illiteracy, poor health, and poor infrastructure\n",
    "\n",
    "Data analysis can help identify patterns and develop solutions to address these issues effectively.\n"
   ]
  },
  {
   "cell_type": "markdown",
   "metadata": {},
   "source": [
    "### OBJECTIVES \n",
    "\n",
    "* 1. To find which crop has the highest productivity\n",
    "* 2. To find the highly populated areas\n",
    "* 3. To find which district had the highest crop yield\n",
    "* 4. To find out if area and population affects the crop yields production"
   ]
  },
  {
   "cell_type": "markdown",
   "metadata": {},
   "source": [
    "## RESEARCH QUESTIONS\n",
    "\n",
    "### We can notice our research questions are almost similar with our objectives but we can tackle them to perform a deep analysis and come up with solutions and recommendations contributing to actions to be taken making Karamoja a better place , improving and benefiting the people\n",
    "\n",
    "* What is best performing crop in Karamoja\n",
    "* What is the similarities and differences between Karamoja Districts and Subcounties\n",
    "* How the geographical distribution is affecting crop yield\n",
    "* If the area measurement impacts the population density of Karamoja"
   ]
  },
  {
   "cell_type": "markdown",
   "metadata": {},
   "source": [
    "# Tableau Worksheets Visualizations 😎"
   ]
  },
  {
   "cell_type": "markdown",
   "metadata": {},
   "source": [
    "!(http://localhost:8888/view/Geographical%20Distribution%20of%20Karamoja%20District%20and%20their%20yields.png)\n",
    "## The link above  is an image of a worksheet in Tableau ; Geographical Distribution of Karamoja District and their yields\n",
    "###  Findings:\n",
    "* The highest crop yield is maize\n",
    "* Amudat District had the highest maize crop yield\n",
    "* Napak District had the lowest maize crop yield\n",
    "* Abim District had the highest sorghum crop yield\n",
    "* Morot District had the lowest sorghum crop yield\n"
   ]
  },
  {
   "cell_type": "markdown",
   "metadata": {},
   "source": [
    "!(http://localhost:8888/view/Geographical%20Distribution%20of%20Karamoja%20District%20per%20Area.png)\n",
    "## The link above  is an image of a worksheet in Tableau ; Geographical Distribution of Karamoja District per Area\n",
    "###  Findings:\n",
    "* The district with largest area is Kaabong\n",
    "* The district with the smallest are is Amudat\n"
   ]
  },
  {
   "cell_type": "markdown",
   "metadata": {},
   "source": [
    "## Next we are gonna find out if the area affects the district's population"
   ]
  },
  {
   "cell_type": "markdown",
   "metadata": {},
   "source": [
    "!(http://localhost:8888/view/Area%20and%20Population%20per%20District.png)\n",
    "## The link above is an image of a worksheet in Tableau ; Area and Population per District\n",
    "### Findings:\n",
    "* Kaabong District has the largest and the highest number of populatio\n",
    "* Meaning the more the are the higher the population\n",
    "* Leading to high crop yield productivity in that area"
   ]
  },
  {
   "cell_type": "markdown",
   "metadata": {},
   "source": [
    "!(http://localhost:8888/view/Total%20Yield%20Production%20per%20District.png)\n",
    "## The link above is an image of a worksheet in Tableau ; Total Yield Production per District\n",
    "### Findings:\n",
    "* Sorghum is the highest crop yield\n",
    "* Kotido District has the the highest total sorghum crop yield record\n",
    "* In Kotido district, sorghum yield is more successful maybe due to favorable environmental conditions.\n",
    "* Nakapiripirit District has the highest maize total crop yield production\n",
    "* Morot District has the lowest crop yield prodction"
   ]
  },
  {
   "cell_type": "markdown",
   "metadata": {},
   "source": [
    "!(http://localhost:8888/view/Crop%20yields%20per%20Subcounty.png)\n",
    "## The link above is an image of a worksheet in Tableau ; Crop yields per Subcounty\n",
    "### Findings:\n",
    "* Well we have a couple of Subcounties\n",
    "* The crop yield distribution looks well distributed not to low yields\n",
    "* Sidok Subcounty has the highest maize crop yield production\n",
    "* Namalu Subcounty has the highest sorghum crop yield production\n",
    "* Southern division Subcounty has no maize yield production\n",
    "* Lopeei Subcounty has the lowest sorghum crop yield"
   ]
  },
  {
   "cell_type": "markdown",
   "metadata": {},
   "source": [
    "!(http://localhost:8888/view/Geographical%20Distribution%20of%20Karamoja%20Subcounties%20per%20Area.png)\n",
    "## The link above is an image of a worksheet in Tableau ; Geographical Distribution of Karamoja Subcounties per Area\n",
    "### Findings:\n",
    "* Rupa has the largest area ; its more coloured than the others\n",
    "* Southern Division Subcounty has the smallest area\n",
    "* You can observe the color transparency , more brighter while diminishing"
   ]
  },
  {
   "cell_type": "markdown",
   "metadata": {},
   "source": [
    "!(http://localhost:8888/view/Area%20and%20Population%20per%20Subcounty%20and%20their%20District.png)\n",
    "## The link above is an image of a worksheet in Tableau ; Geographical Distribution of Karamoja Subcounties per Area\n",
    "### Findings: \n",
    "* We can see the larger the area the more the population\n",
    "* That means that we should make that a priority to prioritizing Subcounties with more areas and so not affect or damge the areas population since a lot of lives are there"
   ]
  },
  {
   "cell_type": "markdown",
   "metadata": {},
   "source": [
    "# Below am going to import libraries\n",
    "* 1 Pandas library\n",
    "* 2 Numpy\n",
    "* 3 Matplotlib\n",
    "* 4 Seaborn\n",
    "* 5 Set %matplotlib inline to show any visual "
   ]
  },
  {
   "cell_type": "code",
   "execution_count": 2,
   "metadata": {},
   "outputs": [],
   "source": [
    "# Importing the libraries\n",
    "import pandas as pd\n",
    "import numpy as np\n",
    "import matplotlib.pyplot as plt\n",
    "import seaborn as sns\n",
    "%matplotlib inline"
   ]
  },
  {
   "cell_type": "markdown",
   "metadata": {},
   "source": [
    "## Loading the Datasets"
   ]
  },
  {
   "cell_type": "code",
   "execution_count": 3,
   "metadata": {},
   "outputs": [],
   "source": [
    "# Loading our data\n",
    "District_yield = pd.read_csv('Uganda_Karamoja_District_Crop_Yield_Population.csv')\n",
    "Subcounty_yield = pd.read_csv('Uganda_Karamoja_Subcounty_Crop_Yield_Population.csv')"
   ]
  },
  {
   "cell_type": "markdown",
   "metadata": {},
   "source": [
    "## Data Understanding and Cleaning"
   ]
  },
  {
   "cell_type": "markdown",
   "metadata": {},
   "source": [
    "## We are going to clean our data that includes:\n",
    "* 1. Inspecting the first few rows\n",
    "* 2. Checking for missing values\n",
    "* 3. If there are missing values deal with them by either droping or filling with either mean, mode, median and as a Data anlyst  there's no wrong way but you just have to give a reason of choosing the appropriate method you chose to use\n",
    "* 3. Checking for duplicated values\n",
    "* 4. If there are duplicated values drop them"
   ]
  },
  {
   "cell_type": "markdown",
   "metadata": {},
   "source": [
    "## First we are going to start with the District_yield"
   ]
  },
  {
   "cell_type": "code",
   "execution_count": 5,
   "metadata": {},
   "outputs": [
    {
     "data": {
      "text/html": [
       "<div>\n",
       "<style scoped>\n",
       "    .dataframe tbody tr th:only-of-type {\n",
       "        vertical-align: middle;\n",
       "    }\n",
       "\n",
       "    .dataframe tbody tr th {\n",
       "        vertical-align: top;\n",
       "    }\n",
       "\n",
       "    .dataframe thead th {\n",
       "        text-align: right;\n",
       "    }\n",
       "</style>\n",
       "<table border=\"1\" class=\"dataframe\">\n",
       "  <thead>\n",
       "    <tr style=\"text-align: right;\">\n",
       "      <th></th>\n",
       "      <th>OBJECTID</th>\n",
       "      <th>NAME</th>\n",
       "      <th>POP</th>\n",
       "      <th>Area</th>\n",
       "      <th>S_Yield_Ha</th>\n",
       "      <th>M_Yield_Ha</th>\n",
       "      <th>Crop_Area_Ha</th>\n",
       "      <th>S_Area_Ha</th>\n",
       "      <th>M_Area_Ha</th>\n",
       "      <th>S_Prod_Tot</th>\n",
       "      <th>M_Prod_Tot</th>\n",
       "    </tr>\n",
       "  </thead>\n",
       "  <tbody>\n",
       "    <tr>\n",
       "      <th>0</th>\n",
       "      <td>92</td>\n",
       "      <td>ABIM</td>\n",
       "      <td>90385</td>\n",
       "      <td>2771977106</td>\n",
       "      <td>449</td>\n",
       "      <td>1040</td>\n",
       "      <td>5470.068394</td>\n",
       "      <td>3277.295971</td>\n",
       "      <td>1848.621855</td>\n",
       "      <td>1471506</td>\n",
       "      <td>1922567</td>\n",
       "    </tr>\n",
       "    <tr>\n",
       "      <th>1</th>\n",
       "      <td>96</td>\n",
       "      <td>AMUDAT</td>\n",
       "      <td>101790</td>\n",
       "      <td>1643582836</td>\n",
       "      <td>205</td>\n",
       "      <td>1297</td>\n",
       "      <td>5765.443719</td>\n",
       "      <td>2973.423860</td>\n",
       "      <td>2733.661014</td>\n",
       "      <td>609552</td>\n",
       "      <td>3545558</td>\n",
       "    </tr>\n",
       "    <tr>\n",
       "      <th>2</th>\n",
       "      <td>20</td>\n",
       "      <td>KAABONG</td>\n",
       "      <td>627057</td>\n",
       "      <td>7373606003</td>\n",
       "      <td>279</td>\n",
       "      <td>945</td>\n",
       "      <td>28121.672530</td>\n",
       "      <td>20544.194960</td>\n",
       "      <td>7394.416334</td>\n",
       "      <td>5731830</td>\n",
       "      <td>6987723</td>\n",
       "    </tr>\n",
       "    <tr>\n",
       "      <th>3</th>\n",
       "      <td>85</td>\n",
       "      <td>KOTIDO</td>\n",
       "      <td>243157</td>\n",
       "      <td>3641539808</td>\n",
       "      <td>331</td>\n",
       "      <td>1148</td>\n",
       "      <td>53032.649450</td>\n",
       "      <td>50247.443900</td>\n",
       "      <td>1751.372284</td>\n",
       "      <td>16631904</td>\n",
       "      <td>2010575</td>\n",
       "    </tr>\n",
       "    <tr>\n",
       "      <th>4</th>\n",
       "      <td>5</td>\n",
       "      <td>MOROTO</td>\n",
       "      <td>127811</td>\n",
       "      <td>3570160948</td>\n",
       "      <td>128</td>\n",
       "      <td>355</td>\n",
       "      <td>5954.814048</td>\n",
       "      <td>4741.748776</td>\n",
       "      <td>1190.050606</td>\n",
       "      <td>606944</td>\n",
       "      <td>422468</td>\n",
       "    </tr>\n",
       "  </tbody>\n",
       "</table>\n",
       "</div>"
      ],
      "text/plain": [
       "   OBJECTID     NAME     POP        Area  S_Yield_Ha  M_Yield_Ha  \\\n",
       "0        92     ABIM   90385  2771977106         449        1040   \n",
       "1        96   AMUDAT  101790  1643582836         205        1297   \n",
       "2        20  KAABONG  627057  7373606003         279         945   \n",
       "3        85   KOTIDO  243157  3641539808         331        1148   \n",
       "4         5   MOROTO  127811  3570160948         128         355   \n",
       "\n",
       "   Crop_Area_Ha     S_Area_Ha    M_Area_Ha  S_Prod_Tot  M_Prod_Tot  \n",
       "0   5470.068394   3277.295971  1848.621855     1471506     1922567  \n",
       "1   5765.443719   2973.423860  2733.661014      609552     3545558  \n",
       "2  28121.672530  20544.194960  7394.416334     5731830     6987723  \n",
       "3  53032.649450  50247.443900  1751.372284    16631904     2010575  \n",
       "4   5954.814048   4741.748776  1190.050606      606944      422468  "
      ]
     },
     "execution_count": 5,
     "metadata": {},
     "output_type": "execute_result"
    }
   ],
   "source": [
    "# Previewing the first 5 rows\n",
    "District_yield.head()"
   ]
  },
  {
   "cell_type": "code",
   "execution_count": 6,
   "metadata": {},
   "outputs": [
    {
     "data": {
      "text/plain": [
       "(7, 11)"
      ]
     },
     "execution_count": 6,
     "metadata": {},
     "output_type": "execute_result"
    }
   ],
   "source": [
    "# Checking the size of our Dataset\n",
    "# Rows and Columns\n",
    "District_yield.shape"
   ]
  },
  {
   "cell_type": "code",
   "execution_count": 7,
   "metadata": {},
   "outputs": [
    {
     "data": {
      "text/plain": [
       "Index(['OBJECTID', 'NAME', 'POP', 'Area', 'S_Yield_Ha', 'M_Yield_Ha',\n",
       "       'Crop_Area_Ha', 'S_Area_Ha', 'M_Area_Ha', 'S_Prod_Tot', 'M_Prod_Tot'],\n",
       "      dtype='object')"
      ]
     },
     "execution_count": 7,
     "metadata": {},
     "output_type": "execute_result"
    }
   ],
   "source": [
    "# Calling out the columns in our Dataset\n",
    "District_yield.columns"
   ]
  },
  {
   "cell_type": "code",
   "execution_count": 8,
   "metadata": {},
   "outputs": [
    {
     "data": {
      "text/plain": [
       "OBJECTID        0\n",
       "NAME            0\n",
       "POP             0\n",
       "Area            0\n",
       "S_Yield_Ha      0\n",
       "M_Yield_Ha      0\n",
       "Crop_Area_Ha    0\n",
       "S_Area_Ha       0\n",
       "M_Area_Ha       0\n",
       "S_Prod_Tot      0\n",
       "M_Prod_Tot      0\n",
       "dtype: int64"
      ]
     },
     "execution_count": 8,
     "metadata": {},
     "output_type": "execute_result"
    }
   ],
   "source": [
    "# Checking for missing values\n",
    "District_yield.isna().sum()"
   ]
  },
  {
   "cell_type": "code",
   "execution_count": 9,
   "metadata": {},
   "outputs": [
    {
     "data": {
      "text/plain": [
       "0    False\n",
       "1    False\n",
       "2    False\n",
       "3    False\n",
       "4    False\n",
       "5    False\n",
       "6    False\n",
       "dtype: bool"
      ]
     },
     "execution_count": 9,
     "metadata": {},
     "output_type": "execute_result"
    }
   ],
   "source": [
    "# Checking for Duplicated Values\n",
    "District_yield.duplicated()"
   ]
  },
  {
   "cell_type": "markdown",
   "metadata": {},
   "source": [
    " ## ``In our output above we can see that we dont have missing and duplicate values`` "
   ]
  },
  {
   "cell_type": "code",
   "execution_count": 10,
   "metadata": {},
   "outputs": [
    {
     "name": "stdout",
     "output_type": "stream",
     "text": [
      "<class 'pandas.core.frame.DataFrame'>\n",
      "RangeIndex: 7 entries, 0 to 6\n",
      "Data columns (total 11 columns):\n",
      " #   Column        Non-Null Count  Dtype  \n",
      "---  ------        --------------  -----  \n",
      " 0   OBJECTID      7 non-null      int64  \n",
      " 1   NAME          7 non-null      object \n",
      " 2   POP           7 non-null      int64  \n",
      " 3   Area          7 non-null      int64  \n",
      " 4   S_Yield_Ha    7 non-null      int64  \n",
      " 5   M_Yield_Ha    7 non-null      int64  \n",
      " 6   Crop_Area_Ha  7 non-null      float64\n",
      " 7   S_Area_Ha     7 non-null      float64\n",
      " 8   M_Area_Ha     7 non-null      float64\n",
      " 9   S_Prod_Tot    7 non-null      int64  \n",
      " 10  M_Prod_Tot    7 non-null      int64  \n",
      "dtypes: float64(3), int64(7), object(1)\n",
      "memory usage: 744.0+ bytes\n"
     ]
    }
   ],
   "source": [
    "# Summary of our DataFrame\n",
    "District_yield.info()"
   ]
  },
  {
   "cell_type": "code",
   "execution_count": 11,
   "metadata": {},
   "outputs": [
    {
     "data": {
      "text/html": [
       "<div>\n",
       "<style scoped>\n",
       "    .dataframe tbody tr th:only-of-type {\n",
       "        vertical-align: middle;\n",
       "    }\n",
       "\n",
       "    .dataframe tbody tr th {\n",
       "        vertical-align: top;\n",
       "    }\n",
       "\n",
       "    .dataframe thead th {\n",
       "        text-align: right;\n",
       "    }\n",
       "</style>\n",
       "<table border=\"1\" class=\"dataframe\">\n",
       "  <thead>\n",
       "    <tr style=\"text-align: right;\">\n",
       "      <th></th>\n",
       "      <th>OBJECTID</th>\n",
       "      <th>POP</th>\n",
       "      <th>Area</th>\n",
       "      <th>S_Yield_Ha</th>\n",
       "      <th>M_Yield_Ha</th>\n",
       "      <th>Crop_Area_Ha</th>\n",
       "      <th>S_Area_Ha</th>\n",
       "      <th>M_Area_Ha</th>\n",
       "      <th>S_Prod_Tot</th>\n",
       "      <th>M_Prod_Tot</th>\n",
       "    </tr>\n",
       "  </thead>\n",
       "  <tbody>\n",
       "    <tr>\n",
       "      <th>count</th>\n",
       "      <td>7.000000</td>\n",
       "      <td>7.000000</td>\n",
       "      <td>7.000000e+00</td>\n",
       "      <td>7.000000</td>\n",
       "      <td>7.000000</td>\n",
       "      <td>7.000000</td>\n",
       "      <td>7.000000</td>\n",
       "      <td>7.000000</td>\n",
       "      <td>7.000000e+00</td>\n",
       "      <td>7.000000e+00</td>\n",
       "    </tr>\n",
       "    <tr>\n",
       "      <th>mean</th>\n",
       "      <td>61.714286</td>\n",
       "      <td>214943.571429</td>\n",
       "      <td>3.960853e+09</td>\n",
       "      <td>269.285714</td>\n",
       "      <td>986.142857</td>\n",
       "      <td>21094.520379</td>\n",
       "      <td>16737.636651</td>\n",
       "      <td>3983.947082</td>\n",
       "      <td>4.873098e+06</td>\n",
       "      <td>4.085632e+06</td>\n",
       "    </tr>\n",
       "    <tr>\n",
       "      <th>std</th>\n",
       "      <td>36.481567</td>\n",
       "      <td>188604.280916</td>\n",
       "      <td>1.781860e+09</td>\n",
       "      <td>119.243049</td>\n",
       "      <td>321.566700</td>\n",
       "      <td>17363.854165</td>\n",
       "      <td>16625.963460</td>\n",
       "      <td>2678.911441</td>\n",
       "      <td>5.743724e+06</td>\n",
       "      <td>2.877188e+06</td>\n",
       "    </tr>\n",
       "    <tr>\n",
       "      <th>min</th>\n",
       "      <td>5.000000</td>\n",
       "      <td>90385.000000</td>\n",
       "      <td>1.643583e+09</td>\n",
       "      <td>128.000000</td>\n",
       "      <td>355.000000</td>\n",
       "      <td>5470.068394</td>\n",
       "      <td>2973.423860</td>\n",
       "      <td>1190.050606</td>\n",
       "      <td>6.069440e+05</td>\n",
       "      <td>4.224680e+05</td>\n",
       "    </tr>\n",
       "    <tr>\n",
       "      <th>25%</th>\n",
       "      <td>37.000000</td>\n",
       "      <td>114800.500000</td>\n",
       "      <td>3.171069e+09</td>\n",
       "      <td>171.000000</td>\n",
       "      <td>899.500000</td>\n",
       "      <td>5860.128883</td>\n",
       "      <td>4009.522373</td>\n",
       "      <td>1799.997070</td>\n",
       "      <td>1.040529e+06</td>\n",
       "      <td>1.966571e+06</td>\n",
       "    </tr>\n",
       "    <tr>\n",
       "      <th>50%</th>\n",
       "      <td>80.000000</td>\n",
       "      <td>146780.000000</td>\n",
       "      <td>3.641540e+09</td>\n",
       "      <td>279.000000</td>\n",
       "      <td>1040.000000</td>\n",
       "      <td>22944.296020</td>\n",
       "      <td>16142.015880</td>\n",
       "      <td>2733.661014</td>\n",
       "      <td>2.211456e+06</td>\n",
       "      <td>3.545558e+06</td>\n",
       "    </tr>\n",
       "    <tr>\n",
       "      <th>75%</th>\n",
       "      <td>88.500000</td>\n",
       "      <td>205391.000000</td>\n",
       "      <td>4.362553e+09</td>\n",
       "      <td>343.500000</td>\n",
       "      <td>1206.000000</td>\n",
       "      <td>27247.185510</td>\n",
       "      <td>19890.764085</td>\n",
       "      <td>6484.753740</td>\n",
       "      <td>6.290160e+06</td>\n",
       "      <td>6.288030e+06</td>\n",
       "    </tr>\n",
       "    <tr>\n",
       "      <th>max</th>\n",
       "      <td>96.000000</td>\n",
       "      <td>627057.000000</td>\n",
       "      <td>7.373606e+09</td>\n",
       "      <td>449.000000</td>\n",
       "      <td>1297.000000</td>\n",
       "      <td>53032.649450</td>\n",
       "      <td>50247.443900</td>\n",
       "      <td>7394.416334</td>\n",
       "      <td>1.663190e+07</td>\n",
       "      <td>8.122197e+06</td>\n",
       "    </tr>\n",
       "  </tbody>\n",
       "</table>\n",
       "</div>"
      ],
      "text/plain": [
       "        OBJECTID            POP          Area  S_Yield_Ha   M_Yield_Ha  \\\n",
       "count   7.000000       7.000000  7.000000e+00    7.000000     7.000000   \n",
       "mean   61.714286  214943.571429  3.960853e+09  269.285714   986.142857   \n",
       "std    36.481567  188604.280916  1.781860e+09  119.243049   321.566700   \n",
       "min     5.000000   90385.000000  1.643583e+09  128.000000   355.000000   \n",
       "25%    37.000000  114800.500000  3.171069e+09  171.000000   899.500000   \n",
       "50%    80.000000  146780.000000  3.641540e+09  279.000000  1040.000000   \n",
       "75%    88.500000  205391.000000  4.362553e+09  343.500000  1206.000000   \n",
       "max    96.000000  627057.000000  7.373606e+09  449.000000  1297.000000   \n",
       "\n",
       "       Crop_Area_Ha     S_Area_Ha    M_Area_Ha    S_Prod_Tot    M_Prod_Tot  \n",
       "count      7.000000      7.000000     7.000000  7.000000e+00  7.000000e+00  \n",
       "mean   21094.520379  16737.636651  3983.947082  4.873098e+06  4.085632e+06  \n",
       "std    17363.854165  16625.963460  2678.911441  5.743724e+06  2.877188e+06  \n",
       "min     5470.068394   2973.423860  1190.050606  6.069440e+05  4.224680e+05  \n",
       "25%     5860.128883   4009.522373  1799.997070  1.040529e+06  1.966571e+06  \n",
       "50%    22944.296020  16142.015880  2733.661014  2.211456e+06  3.545558e+06  \n",
       "75%    27247.185510  19890.764085  6484.753740  6.290160e+06  6.288030e+06  \n",
       "max    53032.649450  50247.443900  7394.416334  1.663190e+07  8.122197e+06  "
      ]
     },
     "execution_count": 11,
     "metadata": {},
     "output_type": "execute_result"
    }
   ],
   "source": [
    "# Statistical Summary of our Dataframe\n",
    "District_yield.describe()"
   ]
  },
  {
   "cell_type": "markdown",
   "metadata": {},
   "source": [
    "## Secondly the Subcounty_yield"
   ]
  },
  {
   "cell_type": "code",
   "execution_count": 12,
   "metadata": {},
   "outputs": [
    {
     "data": {
      "text/html": [
       "<div>\n",
       "<style scoped>\n",
       "    .dataframe tbody tr th:only-of-type {\n",
       "        vertical-align: middle;\n",
       "    }\n",
       "\n",
       "    .dataframe tbody tr th {\n",
       "        vertical-align: top;\n",
       "    }\n",
       "\n",
       "    .dataframe thead th {\n",
       "        text-align: right;\n",
       "    }\n",
       "</style>\n",
       "<table border=\"1\" class=\"dataframe\">\n",
       "  <thead>\n",
       "    <tr style=\"text-align: right;\">\n",
       "      <th></th>\n",
       "      <th>OBJECTID</th>\n",
       "      <th>SUBCOUNTY_NAME</th>\n",
       "      <th>DISTRICT_NAME</th>\n",
       "      <th>POP</th>\n",
       "      <th>Area</th>\n",
       "      <th>Karamoja</th>\n",
       "      <th>S_Yield_Ha</th>\n",
       "      <th>M_Yield_Ha</th>\n",
       "      <th>Crop_Area_Ha</th>\n",
       "      <th>S_Area_Ha</th>\n",
       "      <th>M_Area_Ha</th>\n",
       "      <th>S_Prod_Tot</th>\n",
       "      <th>M_Prod_Tot</th>\n",
       "    </tr>\n",
       "  </thead>\n",
       "  <tbody>\n",
       "    <tr>\n",
       "      <th>0</th>\n",
       "      <td>263</td>\n",
       "      <td>KACHERI</td>\n",
       "      <td>KOTIDO</td>\n",
       "      <td>17244</td>\n",
       "      <td>1067176155</td>\n",
       "      <td>Y</td>\n",
       "      <td>354.207411</td>\n",
       "      <td>1137.467019</td>\n",
       "      <td>7023.533691</td>\n",
       "      <td>6434.342449</td>\n",
       "      <td>528.124229</td>\n",
       "      <td>2.279092e+06</td>\n",
       "      <td>600723.892900</td>\n",
       "    </tr>\n",
       "    <tr>\n",
       "      <th>1</th>\n",
       "      <td>264</td>\n",
       "      <td>KOTIDO</td>\n",
       "      <td>KOTIDO</td>\n",
       "      <td>52771</td>\n",
       "      <td>597575188</td>\n",
       "      <td>Y</td>\n",
       "      <td>367.890523</td>\n",
       "      <td>1162.996687</td>\n",
       "      <td>13587.990760</td>\n",
       "      <td>12455.592640</td>\n",
       "      <td>824.767081</td>\n",
       "      <td>4.582294e+06</td>\n",
       "      <td>959201.382500</td>\n",
       "    </tr>\n",
       "    <tr>\n",
       "      <th>2</th>\n",
       "      <td>265</td>\n",
       "      <td>KOTIDO TOWN COUNCIL</td>\n",
       "      <td>KOTIDO</td>\n",
       "      <td>27389</td>\n",
       "      <td>23972401</td>\n",
       "      <td>Y</td>\n",
       "      <td>369.314177</td>\n",
       "      <td>1167.005832</td>\n",
       "      <td>1656.531855</td>\n",
       "      <td>1520.322052</td>\n",
       "      <td>8.561644</td>\n",
       "      <td>5.614765e+05</td>\n",
       "      <td>9991.488268</td>\n",
       "    </tr>\n",
       "    <tr>\n",
       "      <th>3</th>\n",
       "      <td>266</td>\n",
       "      <td>NAKAPERIMORU</td>\n",
       "      <td>KOTIDO</td>\n",
       "      <td>38775</td>\n",
       "      <td>419111591</td>\n",
       "      <td>Y</td>\n",
       "      <td>283.324569</td>\n",
       "      <td>852.366578</td>\n",
       "      <td>7087.823334</td>\n",
       "      <td>6761.488901</td>\n",
       "      <td>45.721712</td>\n",
       "      <td>1.915696e+06</td>\n",
       "      <td>38971.659080</td>\n",
       "    </tr>\n",
       "    <tr>\n",
       "      <th>4</th>\n",
       "      <td>267</td>\n",
       "      <td>PANYANGARA</td>\n",
       "      <td>KOTIDO</td>\n",
       "      <td>65704</td>\n",
       "      <td>880955930</td>\n",
       "      <td>Y</td>\n",
       "      <td>373.836926</td>\n",
       "      <td>1283.859882</td>\n",
       "      <td>10398.249390</td>\n",
       "      <td>10111.198130</td>\n",
       "      <td>172.611914</td>\n",
       "      <td>3.779939e+06</td>\n",
       "      <td>221609.511400</td>\n",
       "    </tr>\n",
       "  </tbody>\n",
       "</table>\n",
       "</div>"
      ],
      "text/plain": [
       "   OBJECTID       SUBCOUNTY_NAME DISTRICT_NAME    POP        Area Karamoja  \\\n",
       "0       263              KACHERI        KOTIDO  17244  1067176155        Y   \n",
       "1       264               KOTIDO        KOTIDO  52771   597575188        Y   \n",
       "2       265  KOTIDO TOWN COUNCIL        KOTIDO  27389    23972401        Y   \n",
       "3       266         NAKAPERIMORU        KOTIDO  38775   419111591        Y   \n",
       "4       267           PANYANGARA        KOTIDO  65704   880955930        Y   \n",
       "\n",
       "   S_Yield_Ha   M_Yield_Ha  Crop_Area_Ha     S_Area_Ha   M_Area_Ha  \\\n",
       "0  354.207411  1137.467019   7023.533691   6434.342449  528.124229   \n",
       "1  367.890523  1162.996687  13587.990760  12455.592640  824.767081   \n",
       "2  369.314177  1167.005832   1656.531855   1520.322052    8.561644   \n",
       "3  283.324569   852.366578   7087.823334   6761.488901   45.721712   \n",
       "4  373.836926  1283.859882  10398.249390  10111.198130  172.611914   \n",
       "\n",
       "     S_Prod_Tot     M_Prod_Tot  \n",
       "0  2.279092e+06  600723.892900  \n",
       "1  4.582294e+06  959201.382500  \n",
       "2  5.614765e+05    9991.488268  \n",
       "3  1.915696e+06   38971.659080  \n",
       "4  3.779939e+06  221609.511400  "
      ]
     },
     "execution_count": 12,
     "metadata": {},
     "output_type": "execute_result"
    }
   ],
   "source": [
    "# Previewing the first 5 rows\n",
    "Subcounty_yield.head()"
   ]
  },
  {
   "cell_type": "code",
   "execution_count": 13,
   "metadata": {},
   "outputs": [
    {
     "data": {
      "text/plain": [
       "(52, 13)"
      ]
     },
     "execution_count": 13,
     "metadata": {},
     "output_type": "execute_result"
    }
   ],
   "source": [
    "# Checking the size of our Dataframe\n",
    "# Rows and columns\n",
    "Subcounty_yield.shape"
   ]
  },
  {
   "cell_type": "code",
   "execution_count": 14,
   "metadata": {},
   "outputs": [
    {
     "data": {
      "text/plain": [
       "Index(['OBJECTID', 'SUBCOUNTY_NAME', 'DISTRICT_NAME', 'POP', 'Area',\n",
       "       'Karamoja', 'S_Yield_Ha', 'M_Yield_Ha', 'Crop_Area_Ha', 'S_Area_Ha',\n",
       "       'M_Area_Ha', 'S_Prod_Tot', 'M_Prod_Tot'],\n",
       "      dtype='object')"
      ]
     },
     "execution_count": 14,
     "metadata": {},
     "output_type": "execute_result"
    }
   ],
   "source": [
    "# Calling out the columns\n",
    "Subcounty_yield.columns"
   ]
  },
  {
   "cell_type": "code",
   "execution_count": 15,
   "metadata": {},
   "outputs": [
    {
     "name": "stdout",
     "output_type": "stream",
     "text": [
      "<class 'pandas.core.frame.DataFrame'>\n",
      "RangeIndex: 52 entries, 0 to 51\n",
      "Data columns (total 13 columns):\n",
      " #   Column          Non-Null Count  Dtype  \n",
      "---  ------          --------------  -----  \n",
      " 0   OBJECTID        52 non-null     int64  \n",
      " 1   SUBCOUNTY_NAME  52 non-null     object \n",
      " 2   DISTRICT_NAME   52 non-null     object \n",
      " 3   POP             52 non-null     int64  \n",
      " 4   Area            52 non-null     int64  \n",
      " 5   Karamoja        52 non-null     object \n",
      " 6   S_Yield_Ha      52 non-null     float64\n",
      " 7   M_Yield_Ha      52 non-null     float64\n",
      " 8   Crop_Area_Ha    52 non-null     float64\n",
      " 9   S_Area_Ha       52 non-null     float64\n",
      " 10  M_Area_Ha       52 non-null     float64\n",
      " 11  S_Prod_Tot      52 non-null     float64\n",
      " 12  M_Prod_Tot      52 non-null     float64\n",
      "dtypes: float64(7), int64(3), object(3)\n",
      "memory usage: 5.4+ KB\n"
     ]
    }
   ],
   "source": [
    "# Summary of our DataFrame\n",
    "Subcounty_yield.info()"
   ]
  },
  {
   "cell_type": "code",
   "execution_count": 16,
   "metadata": {},
   "outputs": [
    {
     "data": {
      "text/html": [
       "<div>\n",
       "<style scoped>\n",
       "    .dataframe tbody tr th:only-of-type {\n",
       "        vertical-align: middle;\n",
       "    }\n",
       "\n",
       "    .dataframe tbody tr th {\n",
       "        vertical-align: top;\n",
       "    }\n",
       "\n",
       "    .dataframe thead th {\n",
       "        text-align: right;\n",
       "    }\n",
       "</style>\n",
       "<table border=\"1\" class=\"dataframe\">\n",
       "  <thead>\n",
       "    <tr style=\"text-align: right;\">\n",
       "      <th></th>\n",
       "      <th>OBJECTID</th>\n",
       "      <th>POP</th>\n",
       "      <th>Area</th>\n",
       "      <th>S_Yield_Ha</th>\n",
       "      <th>M_Yield_Ha</th>\n",
       "      <th>Crop_Area_Ha</th>\n",
       "      <th>S_Area_Ha</th>\n",
       "      <th>M_Area_Ha</th>\n",
       "      <th>S_Prod_Tot</th>\n",
       "      <th>M_Prod_Tot</th>\n",
       "    </tr>\n",
       "  </thead>\n",
       "  <tbody>\n",
       "    <tr>\n",
       "      <th>count</th>\n",
       "      <td>52.000000</td>\n",
       "      <td>52.000000</td>\n",
       "      <td>5.200000e+01</td>\n",
       "      <td>52.000000</td>\n",
       "      <td>52.000000</td>\n",
       "      <td>52.000000</td>\n",
       "      <td>52.000000</td>\n",
       "      <td>52.000000</td>\n",
       "      <td>5.200000e+01</td>\n",
       "      <td>5.200000e+01</td>\n",
       "    </tr>\n",
       "    <tr>\n",
       "      <th>mean</th>\n",
       "      <td>787.865385</td>\n",
       "      <td>28934.692308</td>\n",
       "      <td>5.331913e+08</td>\n",
       "      <td>274.165405</td>\n",
       "      <td>940.259552</td>\n",
       "      <td>2839.646974</td>\n",
       "      <td>2253.143395</td>\n",
       "      <td>536.300569</td>\n",
       "      <td>6.557443e+05</td>\n",
       "      <td>5.500730e+05</td>\n",
       "    </tr>\n",
       "    <tr>\n",
       "      <th>std</th>\n",
       "      <td>280.101314</td>\n",
       "      <td>20865.122974</td>\n",
       "      <td>4.913308e+08</td>\n",
       "      <td>118.569907</td>\n",
       "      <td>321.641901</td>\n",
       "      <td>3110.505917</td>\n",
       "      <td>2954.355858</td>\n",
       "      <td>724.092288</td>\n",
       "      <td>9.915839e+05</td>\n",
       "      <td>7.939707e+05</td>\n",
       "    </tr>\n",
       "    <tr>\n",
       "      <th>min</th>\n",
       "      <td>263.000000</td>\n",
       "      <td>1418.000000</td>\n",
       "      <td>2.121209e+06</td>\n",
       "      <td>108.156411</td>\n",
       "      <td>0.000000</td>\n",
       "      <td>0.171390</td>\n",
       "      <td>0.130941</td>\n",
       "      <td>0.000000</td>\n",
       "      <td>1.728126e+01</td>\n",
       "      <td>0.000000e+00</td>\n",
       "    </tr>\n",
       "    <tr>\n",
       "      <th>25%</th>\n",
       "      <td>597.750000</td>\n",
       "      <td>16558.500000</td>\n",
       "      <td>1.568923e+08</td>\n",
       "      <td>173.034066</td>\n",
       "      <td>743.075879</td>\n",
       "      <td>964.876031</td>\n",
       "      <td>405.394759</td>\n",
       "      <td>79.821743</td>\n",
       "      <td>1.210555e+05</td>\n",
       "      <td>6.087012e+04</td>\n",
       "    </tr>\n",
       "    <tr>\n",
       "      <th>50%</th>\n",
       "      <td>810.500000</td>\n",
       "      <td>23053.500000</td>\n",
       "      <td>3.848356e+08</td>\n",
       "      <td>277.255206</td>\n",
       "      <td>1016.684002</td>\n",
       "      <td>1654.265138</td>\n",
       "      <td>1231.824455</td>\n",
       "      <td>326.479336</td>\n",
       "      <td>2.543687e+05</td>\n",
       "      <td>2.896239e+05</td>\n",
       "    </tr>\n",
       "    <tr>\n",
       "      <th>75%</th>\n",
       "      <td>982.250000</td>\n",
       "      <td>39461.000000</td>\n",
       "      <td>7.749029e+08</td>\n",
       "      <td>368.246437</td>\n",
       "      <td>1203.548665</td>\n",
       "      <td>3267.564651</td>\n",
       "      <td>2429.985069</td>\n",
       "      <td>740.296675</td>\n",
       "      <td>6.040942e+05</td>\n",
       "      <td>8.114574e+05</td>\n",
       "    </tr>\n",
       "    <tr>\n",
       "      <th>max</th>\n",
       "      <td>1320.000000</td>\n",
       "      <td>100919.000000</td>\n",
       "      <td>2.069555e+09</td>\n",
       "      <td>560.313070</td>\n",
       "      <td>1396.991494</td>\n",
       "      <td>13587.990760</td>\n",
       "      <td>12964.499730</td>\n",
       "      <td>3840.698081</td>\n",
       "      <td>4.582294e+06</td>\n",
       "      <td>4.365058e+06</td>\n",
       "    </tr>\n",
       "  </tbody>\n",
       "</table>\n",
       "</div>"
      ],
      "text/plain": [
       "          OBJECTID            POP          Area  S_Yield_Ha   M_Yield_Ha  \\\n",
       "count    52.000000      52.000000  5.200000e+01   52.000000    52.000000   \n",
       "mean    787.865385   28934.692308  5.331913e+08  274.165405   940.259552   \n",
       "std     280.101314   20865.122974  4.913308e+08  118.569907   321.641901   \n",
       "min     263.000000    1418.000000  2.121209e+06  108.156411     0.000000   \n",
       "25%     597.750000   16558.500000  1.568923e+08  173.034066   743.075879   \n",
       "50%     810.500000   23053.500000  3.848356e+08  277.255206  1016.684002   \n",
       "75%     982.250000   39461.000000  7.749029e+08  368.246437  1203.548665   \n",
       "max    1320.000000  100919.000000  2.069555e+09  560.313070  1396.991494   \n",
       "\n",
       "       Crop_Area_Ha     S_Area_Ha    M_Area_Ha    S_Prod_Tot    M_Prod_Tot  \n",
       "count     52.000000     52.000000    52.000000  5.200000e+01  5.200000e+01  \n",
       "mean    2839.646974   2253.143395   536.300569  6.557443e+05  5.500730e+05  \n",
       "std     3110.505917   2954.355858   724.092288  9.915839e+05  7.939707e+05  \n",
       "min        0.171390      0.130941     0.000000  1.728126e+01  0.000000e+00  \n",
       "25%      964.876031    405.394759    79.821743  1.210555e+05  6.087012e+04  \n",
       "50%     1654.265138   1231.824455   326.479336  2.543687e+05  2.896239e+05  \n",
       "75%     3267.564651   2429.985069   740.296675  6.040942e+05  8.114574e+05  \n",
       "max    13587.990760  12964.499730  3840.698081  4.582294e+06  4.365058e+06  "
      ]
     },
     "execution_count": 16,
     "metadata": {},
     "output_type": "execute_result"
    }
   ],
   "source": [
    "# Statistical Summary of our Dataframe\n",
    "Subcounty_yield.describe()"
   ]
  },
  {
   "cell_type": "code",
   "execution_count": 17,
   "metadata": {},
   "outputs": [
    {
     "data": {
      "text/plain": [
       "OBJECTID          0\n",
       "SUBCOUNTY_NAME    0\n",
       "DISTRICT_NAME     0\n",
       "POP               0\n",
       "Area              0\n",
       "Karamoja          0\n",
       "S_Yield_Ha        0\n",
       "M_Yield_Ha        0\n",
       "Crop_Area_Ha      0\n",
       "S_Area_Ha         0\n",
       "M_Area_Ha         0\n",
       "S_Prod_Tot        0\n",
       "M_Prod_Tot        0\n",
       "dtype: int64"
      ]
     },
     "execution_count": 17,
     "metadata": {},
     "output_type": "execute_result"
    }
   ],
   "source": [
    "# Checking the missing values\n",
    "Subcounty_yield.isna().sum()"
   ]
  },
  {
   "cell_type": "code",
   "execution_count": 18,
   "metadata": {},
   "outputs": [
    {
     "data": {
      "text/html": [
       "<div>\n",
       "<style scoped>\n",
       "    .dataframe tbody tr th:only-of-type {\n",
       "        vertical-align: middle;\n",
       "    }\n",
       "\n",
       "    .dataframe tbody tr th {\n",
       "        vertical-align: top;\n",
       "    }\n",
       "\n",
       "    .dataframe thead th {\n",
       "        text-align: right;\n",
       "    }\n",
       "</style>\n",
       "<table border=\"1\" class=\"dataframe\">\n",
       "  <thead>\n",
       "    <tr style=\"text-align: right;\">\n",
       "      <th></th>\n",
       "      <th>Area</th>\n",
       "      <th>Crop_Area_Ha</th>\n",
       "      <th>S_Yield_Ha</th>\n",
       "      <th>M_Yield_Ha</th>\n",
       "    </tr>\n",
       "  </thead>\n",
       "  <tbody>\n",
       "    <tr>\n",
       "      <th>Area</th>\n",
       "      <td>1.000000</td>\n",
       "      <td>0.410245</td>\n",
       "      <td>-0.036377</td>\n",
       "      <td>-0.212716</td>\n",
       "    </tr>\n",
       "    <tr>\n",
       "      <th>Crop_Area_Ha</th>\n",
       "      <td>0.410245</td>\n",
       "      <td>1.000000</td>\n",
       "      <td>0.206778</td>\n",
       "      <td>0.300017</td>\n",
       "    </tr>\n",
       "    <tr>\n",
       "      <th>S_Yield_Ha</th>\n",
       "      <td>-0.036377</td>\n",
       "      <td>0.206778</td>\n",
       "      <td>1.000000</td>\n",
       "      <td>0.565185</td>\n",
       "    </tr>\n",
       "    <tr>\n",
       "      <th>M_Yield_Ha</th>\n",
       "      <td>-0.212716</td>\n",
       "      <td>0.300017</td>\n",
       "      <td>0.565185</td>\n",
       "      <td>1.000000</td>\n",
       "    </tr>\n",
       "  </tbody>\n",
       "</table>\n",
       "</div>"
      ],
      "text/plain": [
       "                  Area  Crop_Area_Ha  S_Yield_Ha  M_Yield_Ha\n",
       "Area          1.000000      0.410245   -0.036377   -0.212716\n",
       "Crop_Area_Ha  0.410245      1.000000    0.206778    0.300017\n",
       "S_Yield_Ha   -0.036377      0.206778    1.000000    0.565185\n",
       "M_Yield_Ha   -0.212716      0.300017    0.565185    1.000000"
      ]
     },
     "execution_count": 18,
     "metadata": {},
     "output_type": "execute_result"
    }
   ],
   "source": [
    "# Correlation between area,crop area and yield\n",
    "Correlation = District_yield[['Area','Crop_Area_Ha','S_Yield_Ha','M_Yield_Ha']].corr()\n",
    "Correlation"
   ]
  },
  {
   "cell_type": "markdown",
   "metadata": {},
   "source": [
    "## Explaining the out put above\n",
    "\n",
    "- Area and Crop_Area_Ha: There is a moderate positive correlation (0.410), indicating that as the total area increases, the crop area tends to increase as well.\n",
    "  \n",
    "  \n",
    "- Area and S_Yield_Ha: There is a very weak negative correlation (-0.036), suggesting almost no relationship between the total area and the yield per hectare for S_Yield.\n",
    "\n",
    "\n",
    "- Area and M_Yield_Ha: There is a weak negative correlation (-0.213), indicating a slight tendency for the yield per hectare for M_Yield to decrease as the total area increases.\n",
    "\n",
    "\n",
    "- Crop_Area_Ha and S_Yield_Ha: There is a weak positive correlation (0.207), suggesting a slight tendency for the yield per hectare for S_Yield to increase as the crop area increases.\n",
    "\n",
    "\n",
    "- Crop_Area_Ha and M_Yield_Ha: There is a moderate positive correlation (0.300), indicating that as the crop area increases, the yield per hectare for M_Yield tends to increase.\n",
    "\n",
    "\n",
    "- S_Yield_Ha and M_Yield_Ha: There is a moderate positive correlation (0.565), suggesting that higher yields per hectare for S_Yield are associated with higher yields per hectare for M_Yield."
   ]
  },
  {
   "cell_type": "code",
   "execution_count": 19,
   "metadata": {},
   "outputs": [
    {
     "data": {
      "text/html": [
       "<div>\n",
       "<style scoped>\n",
       "    .dataframe tbody tr th:only-of-type {\n",
       "        vertical-align: middle;\n",
       "    }\n",
       "\n",
       "    .dataframe tbody tr th {\n",
       "        vertical-align: top;\n",
       "    }\n",
       "\n",
       "    .dataframe thead th {\n",
       "        text-align: right;\n",
       "    }\n",
       "</style>\n",
       "<table border=\"1\" class=\"dataframe\">\n",
       "  <thead>\n",
       "    <tr style=\"text-align: right;\">\n",
       "      <th></th>\n",
       "      <th>OBJECTID</th>\n",
       "      <th>NAME</th>\n",
       "      <th>POP</th>\n",
       "      <th>Area</th>\n",
       "      <th>S_Yield_Ha</th>\n",
       "      <th>M_Yield_Ha</th>\n",
       "      <th>Crop_Area_Ha</th>\n",
       "      <th>S_Area_Ha</th>\n",
       "      <th>M_Area_Ha</th>\n",
       "      <th>S_Prod_Tot</th>\n",
       "      <th>M_Prod_Tot</th>\n",
       "    </tr>\n",
       "  </thead>\n",
       "  <tbody>\n",
       "    <tr>\n",
       "      <th>0</th>\n",
       "      <td>92</td>\n",
       "      <td>ABIM</td>\n",
       "      <td>90385</td>\n",
       "      <td>2771977106</td>\n",
       "      <td>449</td>\n",
       "      <td>1040</td>\n",
       "      <td>5470.068394</td>\n",
       "      <td>3277.295971</td>\n",
       "      <td>1848.621855</td>\n",
       "      <td>1471506</td>\n",
       "      <td>1922567</td>\n",
       "    </tr>\n",
       "    <tr>\n",
       "      <th>1</th>\n",
       "      <td>96</td>\n",
       "      <td>AMUDAT</td>\n",
       "      <td>101790</td>\n",
       "      <td>1643582836</td>\n",
       "      <td>205</td>\n",
       "      <td>1297</td>\n",
       "      <td>5765.443719</td>\n",
       "      <td>2973.423860</td>\n",
       "      <td>2733.661014</td>\n",
       "      <td>609552</td>\n",
       "      <td>3545558</td>\n",
       "    </tr>\n",
       "    <tr>\n",
       "      <th>2</th>\n",
       "      <td>20</td>\n",
       "      <td>KAABONG</td>\n",
       "      <td>627057</td>\n",
       "      <td>7373606003</td>\n",
       "      <td>279</td>\n",
       "      <td>945</td>\n",
       "      <td>28121.672530</td>\n",
       "      <td>20544.194960</td>\n",
       "      <td>7394.416334</td>\n",
       "      <td>5731830</td>\n",
       "      <td>6987723</td>\n",
       "    </tr>\n",
       "    <tr>\n",
       "      <th>3</th>\n",
       "      <td>85</td>\n",
       "      <td>KOTIDO</td>\n",
       "      <td>243157</td>\n",
       "      <td>3641539808</td>\n",
       "      <td>331</td>\n",
       "      <td>1148</td>\n",
       "      <td>53032.649450</td>\n",
       "      <td>50247.443900</td>\n",
       "      <td>1751.372284</td>\n",
       "      <td>16631904</td>\n",
       "      <td>2010575</td>\n",
       "    </tr>\n",
       "    <tr>\n",
       "      <th>4</th>\n",
       "      <td>5</td>\n",
       "      <td>MOROTO</td>\n",
       "      <td>127811</td>\n",
       "      <td>3570160948</td>\n",
       "      <td>128</td>\n",
       "      <td>355</td>\n",
       "      <td>5954.814048</td>\n",
       "      <td>4741.748776</td>\n",
       "      <td>1190.050606</td>\n",
       "      <td>606944</td>\n",
       "      <td>422468</td>\n",
       "    </tr>\n",
       "    <tr>\n",
       "      <th>5</th>\n",
       "      <td>54</td>\n",
       "      <td>NAKAPIRIPIRIT</td>\n",
       "      <td>146780</td>\n",
       "      <td>4216323900</td>\n",
       "      <td>356</td>\n",
       "      <td>1264</td>\n",
       "      <td>26372.698490</td>\n",
       "      <td>19237.333210</td>\n",
       "      <td>6425.788414</td>\n",
       "      <td>6848491</td>\n",
       "      <td>8122197</td>\n",
       "    </tr>\n",
       "    <tr>\n",
       "      <th>6</th>\n",
       "      <td>80</td>\n",
       "      <td>NAPAK</td>\n",
       "      <td>167625</td>\n",
       "      <td>4508782023</td>\n",
       "      <td>137</td>\n",
       "      <td>854</td>\n",
       "      <td>22944.296020</td>\n",
       "      <td>16142.015880</td>\n",
       "      <td>6543.719066</td>\n",
       "      <td>2211456</td>\n",
       "      <td>5588336</td>\n",
       "    </tr>\n",
       "  </tbody>\n",
       "</table>\n",
       "</div>"
      ],
      "text/plain": [
       "   OBJECTID           NAME     POP        Area  S_Yield_Ha  M_Yield_Ha  \\\n",
       "0        92           ABIM   90385  2771977106         449        1040   \n",
       "1        96         AMUDAT  101790  1643582836         205        1297   \n",
       "2        20        KAABONG  627057  7373606003         279         945   \n",
       "3        85         KOTIDO  243157  3641539808         331        1148   \n",
       "4         5         MOROTO  127811  3570160948         128         355   \n",
       "5        54  NAKAPIRIPIRIT  146780  4216323900         356        1264   \n",
       "6        80          NAPAK  167625  4508782023         137         854   \n",
       "\n",
       "   Crop_Area_Ha     S_Area_Ha    M_Area_Ha  S_Prod_Tot  M_Prod_Tot  \n",
       "0   5470.068394   3277.295971  1848.621855     1471506     1922567  \n",
       "1   5765.443719   2973.423860  2733.661014      609552     3545558  \n",
       "2  28121.672530  20544.194960  7394.416334     5731830     6987723  \n",
       "3  53032.649450  50247.443900  1751.372284    16631904     2010575  \n",
       "4   5954.814048   4741.748776  1190.050606      606944      422468  \n",
       "5  26372.698490  19237.333210  6425.788414     6848491     8122197  \n",
       "6  22944.296020  16142.015880  6543.719066     2211456     5588336  "
      ]
     },
     "execution_count": 19,
     "metadata": {},
     "output_type": "execute_result"
    }
   ],
   "source": [
    "District_yield"
   ]
  },
  {
   "cell_type": "markdown",
   "metadata": {},
   "source": [
    "## Visualizations"
   ]
  },
  {
   "cell_type": "markdown",
   "metadata": {},
   "source": [
    "### Plotting a Box Plot to Check for Outliers\n",
    "* This box plot helps identify outliers in the S_Yield_Ha column. Outliers can skew our analysis, so detecting them is crucial for accurate data interpretation."
   ]
  },
  {
   "cell_type": "code",
   "execution_count": 20,
   "metadata": {},
   "outputs": [
    {
     "data": {
      "image/png": "[encoded data removed]",
      "text/plain": [
       "<Figure size 720x432 with 1 Axes>"
      ]
     },
     "metadata": {
      "needs_background": "light"
     },
     "output_type": "display_data"
    }
   ],
   "source": [
    "# Box plot for 'S_Yield_Ha' to check for outliers\n",
    "plt.figure(figsize=(10, 6))\n",
    "sns.boxplot(x=District_yield['S_Yield_Ha'])\n",
    "plt.title('Box Plot of S_Yield_Ha')\n",
    "plt.xlabel('S_Yield_Ha')\n",
    "plt.show()\n"
   ]
  },
  {
   "cell_type": "markdown",
   "metadata": {},
   "source": [
    "###  Bar Graph\n",
    "#### Horizontal Bar Graph (With an h)\n",
    "This horizontal bar graph shows the population distribution across different districts. It's useful for comparing population sizes visually."
   ]
  },
  {
   "cell_type": "code",
   "execution_count": 21,
   "metadata": {},
   "outputs": [
    {
     "data": {
      "image/png": "[encoded data removed]",
      "text/plain": [
       "<Figure size 720x432 with 1 Axes>"
      ]
     },
     "metadata": {
      "needs_background": "light"
     },
     "output_type": "display_data"
    }
   ],
   "source": [
    "# Horizontal bar graph for 'POP' by 'NAME'\n",
    "# Creating the plot\n",
    "plt.figure(figsize=(10, 6))\n",
    "plt.barh(District_yield['NAME'], District_yield['POP'], color='violet')\n",
    "\n",
    "#Labeling the title\n",
    "plt.title('Population by District')\n",
    "\n",
    "#Labeling the x and y axis\n",
    "plt.xlabel('Population')\n",
    "plt.ylabel('District')\n",
    "# Showing the visual\n",
    "plt.show();\n"
   ]
  },
  {
   "cell_type": "markdown",
   "metadata": {},
   "source": [
    "#### Vertical Bar Graph (Without an h)\n",
    "* This vertical bar graph also shows population distribution but in a vertical format. Rotating the x-labels improves readability."
   ]
  },
  {
   "cell_type": "code",
   "execution_count": 23,
   "metadata": {},
   "outputs": [
    {
     "data": {
      "image/png": "[encoded data removed]",
      "text/plain": [
       "<Figure size 720x432 with 1 Axes>"
      ]
     },
     "metadata": {
      "needs_background": "light"
     },
     "output_type": "display_data"
    }
   ],
   "source": [
    "# Vertical bar graph for 'POP' by 'NAME'\n",
    "# Creating the plot\n",
    "plt.figure(figsize=(10, 6))\n",
    "plt.bar(District_yield['NAME'], District_yield['POP'], color='violet')\n",
    "\n",
    "# Labeling the title\n",
    "plt.title('Population by District')\n",
    "\n",
    "# Labeling the x and y axis\n",
    "plt.xlabel('District')\n",
    "plt.ylabel('Population')\n",
    "plt.xticks(rotation=45)\n",
    "# Showing the visual\n",
    "plt.show();"
   ]
  },
  {
   "cell_type": "markdown",
   "metadata": {},
   "source": [
    "###  Heatmap\n",
    "* This heatmap visualizes the correlation matrix, highlighting relationships between variables. Useful for identifying strong correlations quickly."
   ]
  },
  {
   "cell_type": "code",
   "execution_count": 24,
   "metadata": {},
   "outputs": [
    {
     "data": {
      "image/png": "[encoded data removed]",
      "text/plain": [
       "<Figure size 720x432 with 2 Axes>"
      ]
     },
     "metadata": {
      "needs_background": "light"
     },
     "output_type": "display_data"
    }
   ],
   "source": [
    "# Heatmap for correlation matrix\n",
    "plt.figure(figsize=(10, 6))\n",
    "sns.heatmap(District_yield[['POP', 'Area', 'S_Yield_Ha', 'M_Yield_Ha', 'Crop_Area_Ha']].corr(), annot=True, cmap='coolwarm')\n",
    "plt.title('Correlation Heatmap')\n",
    "plt.show()\n"
   ]
  },
  {
   "cell_type": "markdown",
   "metadata": {},
   "source": [
    "###  Scatter Plot\n",
    "* This scatter plot explores the relationship between crop area and yield. It helps identify correlations or trends between these two variables."
   ]
  },
  {
   "cell_type": "code",
   "execution_count": 25,
   "metadata": {},
   "outputs": [
    {
     "data": {
      "image/png": "[encoded data removed]",
      "text/plain": [
       "<Figure size 720x432 with 1 Axes>"
      ]
     },
     "metadata": {
      "needs_background": "light"
     },
     "output_type": "display_data"
    }
   ],
   "source": [
    "\n",
    "# Scatter plot for 'Crop_Area_Ha' vs 'M_Yield_Ha'\n",
    "plt.figure(figsize=(10, 6))\n",
    "plt.scatter(District_yield['Crop_Area_Ha'], District_yield['M_Yield_Ha'])\n",
    "plt.title('Scatter Plot of Crop Area vs M_Yield_Ha')\n",
    "plt.xlabel('Crop Area (Ha)')\n",
    "plt.ylabel('M_Yield_Ha')\n",
    "plt.show()\n"
   ]
  },
  {
   "cell_type": "markdown",
   "metadata": {},
   "source": [
    "### Pair Plot\n",
    "* This pair plot provides a comprehensive view of relationships between multiple variables. It's beneficial for initial exploratory data analysis.\n"
   ]
  },
  {
   "cell_type": "code",
   "execution_count": 26,
   "metadata": {},
   "outputs": [
    {
     "data": {
      "image/png": "[encoded data removed]",
      "text/plain": [
       "<Figure size 900x900 with 30 Axes>"
      ]
     },
     "metadata": {
      "needs_background": "light"
     },
     "output_type": "display_data"
    }
   ],
   "source": [
    "# Pair plot for multiple variables\n",
    "sns.pairplot(District_yield[['POP', 'Area', 'S_Yield_Ha', 'M_Yield_Ha', 'Crop_Area_Ha']])\n",
    "plt.show()"
   ]
  },
  {
   "cell_type": "markdown",
   "metadata": {},
   "source": [
    "Summary\n",
    "This analysis aimed to find some information for the Dalberg Data Insights (DDI) to develop a new foof security monitoring tool to support the decision making of one of those NGOs active in Karamoja. The findings were as follows-:\n",
    "\n",
    "Population has a positive correlation with the Crops productivity as the population increases as the crop productivity increases\n",
    "The top five suncounties in Karamoja with the least productivity are :\n",
    "SOUTHERN DIVISION\n",
    "NORTHERN DIVISION\n",
    "AMUDAT TOWN COUNCIL\n",
    "NAKAPIRIPIRIT TOWN COUNCIL\n",
    "KAABONG TOWN COUNCIL\n",
    "Also it is noted that as the Crop Area increases this leads to increase in the crop productivity.\n",
    "The crop with the most productivity is Sorghum\n",
    "The district with the most production is KOTIDO with 18642479 and the district with the least production is MOROTO with 1029412"
   ]
  },
  {
   "cell_type": "markdown",
   "metadata": {},
   "source": [
    "### Recommendations:\n",
    "\n",
    "* Enhance Agricultural Practices: Provide training on modern agricultural techniques, including improved planting methods, soil management, and pest control, to boost crop yields.\n",
    "* Promote High-Yielding Varieties: Encourage the use of certified, high-yielding seeds suitable for Karamoja's agro-climatic conditions to improve productivity.\n",
    "* Facilitate Market Access: Improve infrastructure and establish market linkages to enable farmers to sell their produce efficiently, ensuring fair prices and increased income.\n",
    "* Value-Added Production: Support the development of value-added processing and packaging initiatives to enhance product quality, extend shelf life, and increase market value.\n",
    "\n",
    "### Conclusion:\n",
    "* Analysis of agricultural performance shows Sorghum's dominance as Karamoja's staple crop, coupled with notable yield variations across districts, call for targeted NGO support. While maize cultivation remains limited, its potential as a complementary food security crop warrants consideration. Leveraging satellite-derived insights to guide interventions in low-yielding sorghum districts, alongside exploring maize promotion, offers a promising pathway to enhanced food production and sustainable food security in Karamoja.\n",
    "\n",
    "\n",
    "### Future Work:\n",
    "\n",
    "* Develop Food Security Monitoring System: Implement a robust food security monitoring system, leveraging data analysis and visualization tools, to track crop yields, assess food availability, and inform timely interventions.\n",
    "* Improve Data Collection: Enhance data collection methods, including the use of remote sensing and ground-level surveys, to improve the accuracy and reliability of agricultural data for analysis.\n",
    "* Empower Local Communities: Develop community-based programs to foster local ownership and participation in food security initiatives, promoting sustainable agricultural practices and resilience."
   ]
  }
 ],
 "metadata": {
  "kernelspec": {
   "display_name": "Python 3",
   "language": "python",
   "name": "python3"
  },
  "language_info": {
   "codemirror_mode": {
    "name": "ipython",
    "version": 3
   },
   "file_extension": ".py",
   "mimetype": "text/x-python",
   "name": "python",
   "nbconvert_exporter": "python",
   "pygments_lexer": "ipython3",
   "version": "3.8.5"
  }
 },
 "nbformat": 4,
 "nbformat_minor": 5
}
